{
  "nbformat": 4,
  "nbformat_minor": 0,
  "metadata": {
    "colab": {
      "provenance": [],
      "authorship_tag": "ABX9TyPqOTo3lL09XvaPE+XxHl5g",
      "include_colab_link": true
    },
    "kernelspec": {
      "name": "python3",
      "display_name": "Python 3"
    },
    "language_info": {
      "name": "python"
    }
  },
  "cells": [
    {
      "cell_type": "markdown",
      "metadata": {
        "id": "view-in-github",
        "colab_type": "text"
      },
      "source": [
        "<a href=\"https://colab.research.google.com/github/jefulee/BTE-320/blob/main/In_Class_Assignments.ipynb\" target=\"_parent\"><img src=\"https://colab.research.google.com/assets/colab-badge.svg\" alt=\"Open In Colab\"/></a>"
      ]
    },
    {
      "cell_type": "markdown",
      "source": [
        "New input:\n",
        "1. Add input for tax rate (%)\n",
        "\n",
        "New processes + outputs:\n",
        "\n",
        "1. Calculate taxes: gross profit * taxes\n",
        "2. Net Income: gross profit - taxes"
      ],
      "metadata": {
        "id": "FGBzl_lYE7Qa"
      }
    },
    {
      "cell_type": "code",
      "source": [
        "# Inputs: Sales ($) and Cost of Goods Pct (%)\n",
        "sales = input(\"Enter sales ($): \")\n",
        "sales = float(sales)\n",
        "\n",
        "cogs_pct = input(\"Enter Cost of Goods (%): \")\n",
        "cogs_pct = float(cogs_pct)\n",
        "\n",
        "rate = input(\"Enter Tax Rate (%): \")\n",
        "rate = float(rate)\n",
        "\n",
        "# Processes: calculate cost of goods sold and gross profit\n",
        "cogs = sales * cogs_pct / 100\n",
        "grossProfit = sales - cogs\n",
        "taxes = grossProfit * rate / 100\n",
        "netIncome = grossProfit - taxes\n",
        "\n",
        "\n",
        "# Outputs: display cost of goods sold and gross profit\n",
        "print (f\"Cost of Goods Sold: ${cogs}\")\n",
        "print (f\"Gross Profit: ${grossProfit}\")\n",
        "print (f\"Taxes: ${taxes}\")\n",
        "print (f\"Net Income: ${netIncome}\")\n"
      ],
      "metadata": {
        "colab": {
          "base_uri": "https://localhost:8080/"
        },
        "id": "isOvTT4gB8JD",
        "outputId": "4955e190-e349-42c6-e0bb-330da4cc4493"
      },
      "execution_count": null,
      "outputs": [
        {
          "output_type": "stream",
          "name": "stdout",
          "text": [
            "Enter sales ($): 12000\n",
            "Enter Cost of Goods (%): 40\n",
            "Enter Tax Rate (%): 30\n",
            "Cost of Goods Sold: $4800.0\n",
            "Gross Profit: $7200.0\n",
            "Taxes: $2160.0\n",
            "Net Income: $5040.0\n"
          ]
        }
      ]
    },
    {
      "cell_type": "markdown",
      "source": [
        "Inventory Management:\n",
        "\n",
        "Assume an item has a steady demand during every year. There is a cost for placing an order with the supplier and a cost for restocking this item. There is also a cost for storing items. Given these costs and your demand forecast, calculate how much of the item to reorder to minimize annual ordering and storing costs. This amount is referred to as the Economic Order Quanity EOQ\n",
        "\n",
        "Given the following assumptions:\n",
        "\n",
        "D --> Annual Demand in units/year\n",
        "S --> Reorder Cost in $/order\n",
        "H --> Holding Cost in $ per unit per year\n",
        "EOQ --> sqrt(2 * D * S/H)"
      ],
      "metadata": {
        "id": "LsB8TP2imdbV"
      }
    },
    {
      "cell_type": "code",
      "source": [
        "#Inputs:\n",
        "\n",
        "demand = input(\"Enter Demand (units/year): \")\n",
        "demand = int(demand)\n",
        "\n",
        "reorder = input(\"Enter Reorder Cost ($/order): \")\n",
        "reorder = float(reorder)\n",
        "\n",
        "holding = input(\"Enter Holding Cost ($/unit/year): \")\n",
        "holding = float(holding)\n",
        "\n",
        "#Process:\n",
        "\n",
        "eoq = (2 * demand * reorder / holding) ** 0.5\n",
        "\n",
        "#Output:\n",
        "\n",
        "print(f\"EOQ: {eoq} units\")\n",
        "\n"
      ],
      "metadata": {
        "colab": {
          "base_uri": "https://localhost:8080/"
        },
        "id": "8l3hqI0Epr5r",
        "outputId": "e2fa93e9-a6a8-4545-f0ce-199f2c9313af"
      },
      "execution_count": null,
      "outputs": [
        {
          "output_type": "stream",
          "name": "stdout",
          "text": [
            "Enter Demand (units/year): 1000\n",
            "Enter Reorder Cost ($/order): 50\n",
            "Enter Holding Cost ($/unit/year): 10\n",
            "EOQ: 100.0 units\n"
          ]
        }
      ]
    },
    {
      "cell_type": "code",
      "source": [
        "#Inputs: Two Numbers and a Mathematical Operator\n",
        "\n",
        "number_1 = input(\"Enter Number 1: \")\n",
        "number_1 = float(number_1)\n",
        "\n",
        "number_2 = input(\"Enter Number 2: \")\n",
        "number_2 = float(number_2)\n",
        "\n",
        "operator = input(\"Enter Operator (+, -, *, /, //, **, %): \")\n",
        "\n",
        "#Process:\n",
        "\n",
        "if operator == \"+\":\n",
        "  print(number_1 + number_2)\n",
        "elif operator == \"-\":\n",
        "  print(number_1 - number_2)\n",
        "elif operator == \"*\":\n",
        "  print(number_1 * number_2)\n",
        "elif operator == \"/\":\n",
        "  print(number_1 / number_2)\n",
        "elif operator == \"//\":\n",
        "  print(number_1 // number_2)\n",
        "elif operator == \"**\":\n",
        "  print(number_1 ** number_2)\n",
        "elif operator == \"%\":\n",
        "  print(number_1 % number_2)\n",
        "else:\n",
        "  print(\"Invalid Operator\")"
      ],
      "metadata": {
        "colab": {
          "base_uri": "https://localhost:8080/"
        },
        "id": "SJJf8Ff7qMK4",
        "outputId": "f349ade8-b90a-4f35-9174-55500c5bc2a3"
      },
      "execution_count": null,
      "outputs": [
        {
          "output_type": "stream",
          "name": "stdout",
          "text": [
            "Enter Number 1: 2\n",
            "Enter Number 2: 3\n",
            "Enter Operator (+, -, *, /, //, **, %): **\n",
            "8.0\n"
          ]
        }
      ]
    },
    {
      "cell_type": "code",
      "source": [
        "n1 = float(input(\"Enter Number 1: \"))\n",
        "n2 = float(input(\"Enter Number 2: \"))\n",
        "op = input(\"Enter Operator (+, -, *, /, //, **, %): \")\n",
        "\n",
        "if op == \"+\":\n",
        "  res = n1 + n2\n",
        "elif op == \"-\":\n",
        "  res = n1 - n2\n",
        "elif op == \"*\":\n",
        "  res = n1 * n2\n",
        "elif op == \"/\":\n",
        "  res = n1 / n2\n",
        "elif op == \"//\":\n",
        "  res = n1 // n2\n",
        "elif op == \"**\":\n",
        "  res = n1 ** n2\n",
        "elif op == \"%\":\n",
        "  res = n1 % n2\n",
        "else:\n",
        "  res = None\n",
        "  print(\"Invalid Operator\")\n",
        "\n",
        "print(f\"result = {res}\")"
      ],
      "metadata": {
        "colab": {
          "base_uri": "https://localhost:8080/"
        },
        "id": "mBKMAdXAuvYM",
        "outputId": "46e3b087-7d67-4ea6-a5e5-675c1d62342b"
      },
      "execution_count": null,
      "outputs": [
        {
          "output_type": "stream",
          "name": "stdout",
          "text": [
            "Enter Number 1: 2\n",
            "Enter Number 2: 3\n",
            "Enter Operator (+, -, *, /, //, **, %): #\n",
            "Invalid Operator\n",
            "result = None\n"
          ]
        }
      ]
    },
    {
      "cell_type": "code",
      "source": [
        "for hour in range(1,9):\n",
        "  fee = 5 + 2.5 * hour\n",
        "  print(hour, fee)"
      ],
      "metadata": {
        "colab": {
          "base_uri": "https://localhost:8080/"
        },
        "id": "7jXOrem3B-ww",
        "outputId": "2e0a05b7-ed81-436b-d433-99941422a6b7"
      },
      "execution_count": null,
      "outputs": [
        {
          "output_type": "stream",
          "name": "stdout",
          "text": [
            "1 7.5\n",
            "2 10.0\n",
            "3 12.5\n",
            "4 15.0\n",
            "5 17.5\n",
            "6 20.0\n",
            "7 22.5\n",
            "8 25.0\n"
          ]
        }
      ]
    },
    {
      "cell_type": "code",
      "source": [
        "for hour in range(8):\n",
        "  print(hour + 1, 5 + 2.5 * (hour + 1))"
      ],
      "metadata": {
        "colab": {
          "base_uri": "https://localhost:8080/"
        },
        "id": "B9YIIZa-DCWg",
        "outputId": "bf6c73d0-3482-4fbb-e6d9-5bfd03ce36e7"
      },
      "execution_count": null,
      "outputs": [
        {
          "output_type": "stream",
          "name": "stdout",
          "text": [
            "1 7.5\n",
            "2 10.0\n",
            "3 12.5\n",
            "4 15.0\n",
            "5 17.5\n",
            "6 20.0\n",
            "7 22.5\n",
            "8 25.0\n"
          ]
        }
      ]
    },
    {
      "cell_type": "code",
      "source": [
        "for hour in range(1,9):\n",
        "  fee = 5 + 2.5 * hour\n",
        "  if fee < 10:\n",
        "    fee = 10.0\n",
        "  elif fee > 20:\n",
        "    fee = 20.0\n",
        "  print(hour, fee)"
      ],
      "metadata": {
        "colab": {
          "base_uri": "https://localhost:8080/"
        },
        "id": "xuLE_TMLE279",
        "outputId": "d7fc98d0-bff7-45a5-93d6-20903328142d"
      },
      "execution_count": null,
      "outputs": [
        {
          "output_type": "stream",
          "name": "stdout",
          "text": [
            "1 10.0\n",
            "2 10.0\n",
            "3 12.5\n",
            "4 15.0\n",
            "5 17.5\n",
            "6 20.0\n",
            "7 20.0\n",
            "8 20.0\n"
          ]
        }
      ]
    },
    {
      "cell_type": "code",
      "source": [
        "for ad in range (0, 201, 25):\n",
        "  revenue = (20 + 2 * ad ** 0.5) * 10\n",
        "  costs = 200 + ad\n",
        "  profit = revenue - costs\n",
        "  print(ad, round(profit))"
      ],
      "metadata": {
        "colab": {
          "base_uri": "https://localhost:8080/"
        },
        "id": "ZRU4D9gLw2Mt",
        "outputId": "44b3ced8-e410-4f35-db3c-b4fd59968e84"
      },
      "execution_count": null,
      "outputs": [
        {
          "output_type": "stream",
          "name": "stdout",
          "text": [
            "0 0\n",
            "25 75\n",
            "50 91\n",
            "75 98\n",
            "100 100\n",
            "125 99\n",
            "150 95\n",
            "175 90\n",
            "200 83\n"
          ]
        }
      ]
    },
    {
      "cell_type": "code",
      "source": [
        "numbers = []\n",
        "num = float(input(\"Give a number: \"))\n",
        "\n",
        "while num != 0:\n",
        "  numbers.append(num)\n",
        "  num = float(input(\"Give another number: \"))\n",
        "\n",
        "numbers.sort(reverse = True)\n",
        "print(numbers)"
      ],
      "metadata": {
        "colab": {
          "base_uri": "https://localhost:8080/"
        },
        "id": "B1VMkLTWPJ5J",
        "outputId": "44ea8f2a-3bd6-4054-ecc7-42d70c47b5a9"
      },
      "execution_count": null,
      "outputs": [
        {
          "output_type": "stream",
          "name": "stdout",
          "text": [
            "Give a number: 5\n",
            "Give another number: 8\n",
            "Give another number: 2\n",
            "Give another number: 6\n",
            "Give another number: 0\n",
            "[8.0, 6.0, 5.0, 2.0]\n"
          ]
        }
      ]
    },
    {
      "cell_type": "code",
      "source": [
        "import random\n",
        "\n",
        "# Print the assignment prompt\n",
        "print(\"Rock-Paper-Scissors (while loops) - The classic hand game.\")\n",
        "print(\"Write a program that plays the game against the computer for as long as the user wants.\")\n",
        "print(\"- Start by allowing the user to choose whether they want to play using input()\")\n",
        "print(\"- As long as the user chooses 'yes', the game continues\")\n",
        "print(\"- Add realism by allowing the computer to randomly choose its action with random.choice()\")\n",
        "\n",
        "print(\"\\n--- Let's play Rock-Paper-Scissors! ---\\n\")\n",
        "\n",
        "# Ask user if they want to play\n",
        "play = input(\"Do you want to play Rock-Paper-Scissors? (yes/no): \").lower()\n",
        "\n",
        "while play == \"yes\":\n",
        "    user_choice = input(\"Choose rock, paper, or scissors: \").lower()\n",
        "    computer_choice = random.choice(['rock', 'paper', 'scissors'])\n",
        "\n",
        "    print(f\"\\nYou chose: {user_choice}\")\n",
        "    print(f\"Computer chose: {computer_choice}\")\n",
        "\n",
        "    if user_choice == computer_choice:\n",
        "        print(\"It's a tie!\")\n",
        "    elif (user_choice == \"rock\" and computer_choice == \"scissors\") or \\\n",
        "         (user_choice == \"scissors\" and computer_choice == \"paper\") or \\\n",
        "         (user_choice == \"paper\" and computer_choice == \"rock\"):\n",
        "        print(\"You win!\")\n",
        "    else:\n",
        "        print(\"Computer wins!\")\n",
        "\n",
        "    # Ask again if the user wants to continue\n",
        "    play = input(\"\\nDo you want to play again? (yes/no): \").lower()\n",
        "\n",
        "print(\"\\nThanks for playing!\")\n"
      ],
      "metadata": {
        "colab": {
          "base_uri": "https://localhost:8080/"
        },
        "id": "awNTT4MU9Tqm",
        "outputId": "99000a4b-7511-4ec8-bfa3-2b3b403e3555"
      },
      "execution_count": 4,
      "outputs": [
        {
          "output_type": "stream",
          "name": "stdout",
          "text": [
            "Rock-Paper-Scissors (while loops) - The classic hand game.\n",
            "Write a program that plays the game against the computer for as long as the user wants.\n",
            "- Start by allowing the user to choose whether they want to play using input()\n",
            "- As long as the user chooses 'yes', the game continues\n",
            "- Add realism by allowing the computer to randomly choose its action with random.choice()\n",
            "\n",
            "--- Let's play Rock-Paper-Scissors! ---\n",
            "\n",
            "Do you want to play Rock-Paper-Scissors? (yes/no): yes\n",
            "Choose rock, paper, or scissors: rock\n",
            "\n",
            "You chose: rock\n",
            "Computer chose: paper\n",
            "Computer wins!\n",
            "\n",
            "Do you want to play again? (yes/no): no\n",
            "\n",
            "Thanks for playing!\n"
          ]
        }
      ]
    }
  ]
}