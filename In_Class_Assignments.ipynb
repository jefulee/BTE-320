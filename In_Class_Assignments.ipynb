{
  "nbformat": 4,
  "nbformat_minor": 0,
  "metadata": {
    "colab": {
      "provenance": [],
      "authorship_tag": "ABX9TyN4ONxqZFdXQvDFD7P9bjyU",
      "include_colab_link": true
    },
    "kernelspec": {
      "name": "python3",
      "display_name": "Python 3"
    },
    "language_info": {
      "name": "python"
    }
  },
  "cells": [
    {
      "cell_type": "markdown",
      "metadata": {
        "id": "view-in-github",
        "colab_type": "text"
      },
      "source": [
        "<a href=\"https://colab.research.google.com/github/jefulee/BTE-320/blob/main/In_Class_Assignments.ipynb\" target=\"_parent\"><img src=\"https://colab.research.google.com/assets/colab-badge.svg\" alt=\"Open In Colab\"/></a>"
      ]
    },
    {
      "cell_type": "code",
      "execution_count": 7,
      "metadata": {
        "colab": {
          "base_uri": "https://localhost:8080/"
        },
        "id": "SGHK1etY-fXv",
        "outputId": "7b203d14-3369-4359-f1e3-b3bd551d336a"
      },
      "outputs": [
        {
          "output_type": "stream",
          "name": "stdout",
          "text": [
            "Enter sales: 10000\n",
            "10000\n"
          ]
        }
      ],
      "source": [
        "sales = input(\"Enter sales: \")\n",
        "sales = int(sales)\n",
        "print (sales)"
      ]
    },
    {
      "cell_type": "markdown",
      "source": [
        "New input:\n",
        "1. Add input for tax rate (%)\n",
        "\n",
        "New processes + outputs:\n",
        "\n",
        "1. Calculate taxes: gross profit * taxes\n",
        "2. Net Income: gross profit - taxes"
      ],
      "metadata": {
        "id": "FGBzl_lYE7Qa"
      }
    },
    {
      "cell_type": "code",
      "source": [
        "# Inputs: Sales ($) and Cost of Goods Pct (%)\n",
        "sales = input(\"Enter sales ($): \")\n",
        "sales = float(sales)\n",
        "\n",
        "cogs_pct = input(\"Enter Cost of Goods (%): \")\n",
        "cogs_pct = float(cogs_pct)\n",
        "\n",
        "rate = input(\"Enter Tax Rate (%): \")\n",
        "rate = float(rate)\n",
        "\n",
        "# Processes: calculate cost of goods sold and gross profit\n",
        "cogs = sales * cogs_pct / 100\n",
        "grossProfit = sales - cogs\n",
        "taxes = grossProfit * rate / 100\n",
        "netIncome = grossProfit - taxes\n",
        "\n",
        "\n",
        "# Outputs: display cost of goods sold and gross profit\n",
        "print (f\"Cost of Goods Sold: ${cogs}\")\n",
        "print (f\"Gross Profit: ${grossProfit}\")\n",
        "print (f\"Taxes: ${taxes}\")\n",
        "print (f\"Net Income: ${netIncome}\")\n"
      ],
      "metadata": {
        "colab": {
          "base_uri": "https://localhost:8080/"
        },
        "id": "isOvTT4gB8JD",
        "outputId": "4955e190-e349-42c6-e0bb-330da4cc4493"
      },
      "execution_count": 17,
      "outputs": [
        {
          "output_type": "stream",
          "name": "stdout",
          "text": [
            "Enter sales ($): 12000\n",
            "Enter Cost of Goods (%): 40\n",
            "Enter Tax Rate (%): 30\n",
            "Cost of Goods Sold: $4800.0\n",
            "Gross Profit: $7200.0\n",
            "Taxes: $2160.0\n",
            "Net Income: $5040.0\n"
          ]
        }
      ]
    }
  ]
}