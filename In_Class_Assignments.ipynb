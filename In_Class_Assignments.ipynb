{
  "nbformat": 4,
  "nbformat_minor": 0,
  "metadata": {
    "colab": {
      "provenance": [],
      "authorship_tag": "ABX9TyOQ7uLhKKQVhmjyS89A43dw",
      "include_colab_link": true
    },
    "kernelspec": {
      "name": "python3",
      "display_name": "Python 3"
    },
    "language_info": {
      "name": "python"
    }
  },
  "cells": [
    {
      "cell_type": "markdown",
      "metadata": {
        "id": "view-in-github",
        "colab_type": "text"
      },
      "source": [
        "<a href=\"https://colab.research.google.com/github/jefulee/BTE-320/blob/main/In_Class_Assignments.ipynb\" target=\"_parent\"><img src=\"https://colab.research.google.com/assets/colab-badge.svg\" alt=\"Open In Colab\"/></a>"
      ]
    },
    {
      "cell_type": "markdown",
      "source": [
        "New input:\n",
        "1. Add input for tax rate (%)\n",
        "\n",
        "New processes + outputs:\n",
        "\n",
        "1. Calculate taxes: gross profit * taxes\n",
        "2. Net Income: gross profit - taxes"
      ],
      "metadata": {
        "id": "FGBzl_lYE7Qa"
      }
    },
    {
      "cell_type": "code",
      "source": [
        "# Inputs: Sales ($) and Cost of Goods Pct (%)\n",
        "sales = input(\"Enter sales ($): \")\n",
        "sales = float(sales)\n",
        "\n",
        "cogs_pct = input(\"Enter Cost of Goods (%): \")\n",
        "cogs_pct = float(cogs_pct)\n",
        "\n",
        "rate = input(\"Enter Tax Rate (%): \")\n",
        "rate = float(rate)\n",
        "\n",
        "# Processes: calculate cost of goods sold and gross profit\n",
        "cogs = sales * cogs_pct / 100\n",
        "grossProfit = sales - cogs\n",
        "taxes = grossProfit * rate / 100\n",
        "netIncome = grossProfit - taxes\n",
        "\n",
        "\n",
        "# Outputs: display cost of goods sold and gross profit\n",
        "print (f\"Cost of Goods Sold: ${cogs}\")\n",
        "print (f\"Gross Profit: ${grossProfit}\")\n",
        "print (f\"Taxes: ${taxes}\")\n",
        "print (f\"Net Income: ${netIncome}\")\n"
      ],
      "metadata": {
        "colab": {
          "base_uri": "https://localhost:8080/"
        },
        "id": "isOvTT4gB8JD",
        "outputId": "4955e190-e349-42c6-e0bb-330da4cc4493"
      },
      "execution_count": null,
      "outputs": [
        {
          "output_type": "stream",
          "name": "stdout",
          "text": [
            "Enter sales ($): 12000\n",
            "Enter Cost of Goods (%): 40\n",
            "Enter Tax Rate (%): 30\n",
            "Cost of Goods Sold: $4800.0\n",
            "Gross Profit: $7200.0\n",
            "Taxes: $2160.0\n",
            "Net Income: $5040.0\n"
          ]
        }
      ]
    },
    {
      "cell_type": "markdown",
      "source": [
        "Inventory Management:\n",
        "\n",
        "Assume an item has a steady demand during every year. There is a cost for placing an order with the supplier and a cost for restocking this item. There is also a cost for storing items. Given these costs and your demand forecast, calculate how much of the item to reorder to minimize annual ordering and storing costs. This amount is referred to as the Economic Order Quanity EOQ\n",
        "\n",
        "Given the following assumptions:\n",
        "\n",
        "D --> Annual Demand in units/year\n",
        "S --> Reorder Cost in $/order\n",
        "H --> Holding Cost in $ per unit per year\n",
        "EOQ --> sqrt(2 * D * S/H)"
      ],
      "metadata": {
        "id": "LsB8TP2imdbV"
      }
    },
    {
      "cell_type": "code",
      "source": [
        "#Inputs:\n",
        "\n",
        "demand = input(\"Enter Demand (units/year): \")\n",
        "demand = int(demand)\n",
        "\n",
        "reorder = input(\"Enter Reorder Cost ($/order): \")\n",
        "reorder = float(reorder)\n",
        "\n",
        "holding = input(\"Enter Holding Cost ($/unit/year): \")\n",
        "holding = float(holding)\n",
        "\n",
        "#Process:\n",
        "\n",
        "eoq = (2 * demand * reorder / holding) ** 0.5\n",
        "\n",
        "#Output:\n",
        "\n",
        "print(f\"EOQ: {eoq} units\")\n",
        "\n"
      ],
      "metadata": {
        "colab": {
          "base_uri": "https://localhost:8080/"
        },
        "id": "8l3hqI0Epr5r",
        "outputId": "e2fa93e9-a6a8-4545-f0ce-199f2c9313af"
      },
      "execution_count": 3,
      "outputs": [
        {
          "output_type": "stream",
          "name": "stdout",
          "text": [
            "Enter Demand (units/year): 1000\n",
            "Enter Reorder Cost ($/order): 50\n",
            "Enter Holding Cost ($/unit/year): 10\n",
            "EOQ: 100.0 units\n"
          ]
        }
      ]
    }
  ]
}